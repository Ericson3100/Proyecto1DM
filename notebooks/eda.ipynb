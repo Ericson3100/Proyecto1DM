{
 "cells": [
  {
   "cell_type": "markdown",
   "metadata": {},
   "source": [
    "Análisis Exploratorio de Datos"
   ]
  },
  {
   "cell_type": "markdown",
   "metadata": {},
   "source": [
    "1. Conexión a Snowflake con Python e imports de librerías necesarias"
   ]
  },
  {
   "cell_type": "code",
   "execution_count": 1,
   "metadata": {},
   "outputs": [],
   "source": [
    "from os import getenv\n",
    "import snowflake.connector\n",
    "import pandas as pd\n",
    "import matplotlib.pyplot as plt"
   ]
  },
  {
   "cell_type": "code",
   "execution_count": 2,
   "metadata": {},
   "outputs": [
    {
     "name": "stdout",
     "output_type": "stream",
     "text": [
      "Conexión a Snowflake exitosa\n"
     ]
    }
   ],
   "source": [
    "config_snowflake = {\n",
    "    'user': getenv('SNOW_USER'),\n",
    "    'password': getenv('SNOW_PASSWORD'),\n",
    "    'account': getenv('SNOW_ACCOUNT'),\n",
    "    'schema': 'RAW',\n",
    "    'database': 'INSTACART_DB',}\n",
    "snowflakecnx = snowflake.connector.connect(**config_snowflake)\n",
    "snowflakecursor = snowflakecnx.cursor()\n",
    "print('Conexión a Snowflake exitosa')\n",
    "    "
   ]
  },
  {
   "cell_type": "markdown",
   "metadata": {},
   "source": [
    "2. Dimensiones de los datos de cada tabla del SCHEMA RAW"
   ]
  },
  {
   "cell_type": "markdown",
   "metadata": {},
   "source": [
    "Visualización de un dato de cada tabla"
   ]
  },
  {
   "cell_type": "code",
   "execution_count": 3,
   "metadata": {},
   "outputs": [
    {
     "name": "stdout",
     "output_type": "stream",
     "text": [
      "Aisles\n",
      " AISLE_ID                 AISLE\n",
      "        1 prepared soups salads\n",
      "\n",
      "Departments\n",
      " DEPARTMENT_ID DEPARTMENT\n",
      "             1     frozen\n",
      "\n",
      "Products\n",
      " PRODUCT_ID               PRODUCT_NAME  AISLE_ID  DEPARTMENT_ID\n",
      "          1 Chocolate Sandwich Cookies        61             19\n",
      "\n",
      "Order Products\n",
      " ORDER_ID  PRODUCT_ID  ADD_TO_CART_ORDER  REORDERED\n",
      "        4       10054                5.0          1\n",
      "\n",
      "Instacart Orders\n",
      " ID  ORDER_ID  USER_ID  ORDER_NUMBER  ORDER_DOW  ORDER_HOUR_OF_DAY  DAYS_SINCE_PRIOR_ORDER\n",
      "  1   1515936   183418            11          6                 13                    30.0\n"
     ]
    }
   ],
   "source": [
    "\n",
    "snowflakecursor.execute(\"SELECT * FROM aisles limit 1\")\n",
    "dato_aisles = pd.DataFrame(snowflakecursor.fetchall(), columns=[x[0] for x in snowflakecursor.description])\n",
    "print(\"Aisles\")\n",
    "print(dato_aisles.to_string(index=False))\n",
    "print()\n",
    "snowflakecursor.execute(\"SELECT * FROM departments limit 1\")\n",
    "dato_departments = pd.DataFrame(snowflakecursor.fetchall(), columns=[x[0] for x in snowflakecursor.description])\n",
    "print(\"Departments\")\n",
    "print(dato_departments.to_string(index=False))\n",
    "print()\n",
    "snowflakecursor.execute(\"SELECT * FROM products limit 1\")\n",
    "dato_products = pd.DataFrame(snowflakecursor.fetchall(), columns=[x[0] for x in snowflakecursor.description])\n",
    "print(\"Products\")\n",
    "print(dato_products.to_string(index=False))\n",
    "print()\n",
    "snowflakecursor.execute(\"SELECT * FROM order_products limit 1\")\n",
    "dato_order_products= pd.DataFrame(snowflakecursor.fetchall(), columns=[x[0] for x in snowflakecursor.description])\n",
    "print(\"Order Products\")\n",
    "print(dato_order_products.to_string(index=False))\n",
    "print()\n",
    "snowflakecursor.execute(\"SELECT * FROM instacart_orders limit 1\")\n",
    "dato_instacart_orders = pd.DataFrame(snowflakecursor.fetchall(), columns=[x[0] for x in snowflakecursor.description])\n",
    "print(\"Instacart Orders\")\n",
    "print(dato_instacart_orders.to_string(index=False))"
   ]
  },
  {
   "cell_type": "markdown",
   "metadata": {},
   "source": [
    "Resumen de cada tabla"
   ]
  },
  {
   "cell_type": "code",
   "execution_count": 4,
   "metadata": {},
   "outputs": [
    {
     "name": "stdout",
     "output_type": "stream",
     "text": [
      "Aisles\n",
      "<class 'pandas.core.frame.DataFrame'>\n",
      "RangeIndex: 134 entries, 0 to 133\n",
      "Data columns (total 2 columns):\n",
      " #   Column    Non-Null Count  Dtype \n",
      "---  ------    --------------  ----- \n",
      " 0   aisle_id  134 non-null    int64 \n",
      " 1   aisle     134 non-null    object\n",
      "dtypes: int64(1), object(1)\n",
      "memory usage: 10.6 KB\n",
      "\n",
      "Departments\n",
      "<class 'pandas.core.frame.DataFrame'>\n",
      "RangeIndex: 21 entries, 0 to 20\n",
      "Data columns (total 2 columns):\n",
      " #   Column         Non-Null Count  Dtype \n",
      "---  ------         --------------  ----- \n",
      " 0   department_id  21 non-null     int64 \n",
      " 1   department     21 non-null     object\n",
      "dtypes: int64(1), object(1)\n",
      "memory usage: 1.6 KB\n",
      "\n",
      "Products\n",
      "<class 'pandas.core.frame.DataFrame'>\n",
      "RangeIndex: 49694 entries, 0 to 49693\n",
      "Data columns (total 4 columns):\n",
      " #   Column         Non-Null Count  Dtype \n",
      "---  ------         --------------  ----- \n",
      " 0   product_id     49694 non-null  int64 \n",
      " 1   product_name   48436 non-null  object\n",
      " 2   aisle_id       49694 non-null  int64 \n",
      " 3   department_id  49694 non-null  int64 \n",
      "dtypes: int64(3), object(1)\n",
      "memory usage: 5.2 MB\n",
      "\n",
      "Order Products\n",
      "<class 'pandas.core.frame.DataFrame'>\n",
      "RangeIndex: 4545007 entries, 0 to 4545006\n",
      "Data columns (total 4 columns):\n",
      " #   Column             Dtype  \n",
      "---  ------             -----  \n",
      " 0   order_id           int64  \n",
      " 1   product_id         int64  \n",
      " 2   add_to_cart_order  float64\n",
      " 3   reordered          int64  \n",
      "dtypes: float64(1), int64(3)\n",
      "memory usage: 138.7 MB\n",
      "\n",
      "Instacart Orders\n",
      "<class 'pandas.core.frame.DataFrame'>\n",
      "RangeIndex: 478967 entries, 0 to 478966\n",
      "Data columns (total 7 columns):\n",
      " #   Column                  Non-Null Count   Dtype  \n",
      "---  ------                  --------------   -----  \n",
      " 0   id                      478967 non-null  int64  \n",
      " 1   order_id                478967 non-null  int64  \n",
      " 2   user_id                 478967 non-null  int64  \n",
      " 3   order_number            478967 non-null  int64  \n",
      " 4   order_dow               478967 non-null  int64  \n",
      " 5   order_hour_of_day       478967 non-null  int64  \n",
      " 6   days_since_prior_order  450148 non-null  float64\n",
      "dtypes: float64(1), int64(6)\n",
      "memory usage: 25.6 MB\n"
     ]
    },
    {
     "data": {
      "text/plain": [
       "25.579723358154297"
      ]
     },
     "execution_count": 4,
     "metadata": {},
     "output_type": "execute_result"
    }
   ],
   "source": [
    "snowflakecursor.execute(\"SELECT * FROM aisles\")\n",
    "all_aisles = snowflakecursor.fetchall()\n",
    "aisles = pd.DataFrame(all_aisles, columns=['aisle_id', 'aisle'])\n",
    "print(\"Aisles\")\n",
    "aisles.info(memory_usage='deep')\n",
    "aisles.memory_usage(deep=True).sum()/(1024**2)\n",
    "print()\n",
    "snowflakecursor.execute(\"SELECT * FROM departments\")\n",
    "all_departments = snowflakecursor.fetchall()\n",
    "departments = pd.DataFrame(all_departments, columns=['department_id', 'department'])\n",
    "print(\"Departments\")\n",
    "departments.info(memory_usage='deep')\n",
    "departments.memory_usage(deep=True).sum()/(1024**2)\n",
    "print()\n",
    "snowflakecursor.execute(\"SELECT * FROM products\")\n",
    "all_products = snowflakecursor.fetchall()\n",
    "products = pd.DataFrame(all_products, columns=['product_id', 'product_name', 'aisle_id', 'department_id'])\n",
    "print(\"Products\")\n",
    "products.info(memory_usage='deep')\n",
    "products.memory_usage(deep=True).sum()/(1024**2)\n",
    "print()\n",
    "snowflakecursor.execute(\"SELECT * FROM order_products\")\n",
    "all_order_products = snowflakecursor.fetchall()\n",
    "order_products = pd.DataFrame(all_order_products, columns=['order_id', 'product_id', 'add_to_cart_order', 'reordered'])\n",
    "print(\"Order Products\")\n",
    "order_products.info(memory_usage='deep')\n",
    "order_products.memory_usage(deep=True).sum()/(1024**2)\n",
    "print()\n",
    "snowflakecursor.execute(\"SELECT * FROM instacart_orders\")\n",
    "all_instacart_orders = snowflakecursor.fetchall()\n",
    "instacart_orders = pd.DataFrame(all_instacart_orders, columns=['id','order_id', 'user_id', 'order_number', 'order_dow', 'order_hour_of_day', 'days_since_prior_order'])\n",
    "print(\"Instacart Orders\")\n",
    "instacart_orders.info(memory_usage='deep')\n",
    "instacart_orders.memory_usage(deep=True).sum()/(1024**2)\n"
   ]
  },
  {
   "cell_type": "markdown",
   "metadata": {},
   "source": [
    "Número de columnas de cada tabla"
   ]
  },
  {
   "cell_type": "code",
   "execution_count": 5,
   "metadata": {},
   "outputs": [
    {
     "name": "stdout",
     "output_type": "stream",
     "text": [
      "                  No. de atributos\n",
      "aisles                           2\n",
      "departments                      2\n",
      "products                         4\n",
      "order_products                   4\n",
      "instacart_orders                 7\n"
     ]
    }
   ],
   "source": [
    "\n",
    "no_atr_aisles = len(aisles.columns)\n",
    "no_atr_departments = len(departments.columns)\n",
    "no_atr_products = len(products.columns)\n",
    "no_atr_order_products = len(order_products.columns)\n",
    "no_atr_instacart_orders = len(instacart_orders.columns)\n",
    "#Mostrar los resultados en una tabla de pandas\n",
    "data = {'No. de atributos': [no_atr_aisles, no_atr_departments, no_atr_products, no_atr_order_products, no_atr_instacart_orders]}\n",
    "df = pd.DataFrame(data, index=['aisles', 'departments', 'products', 'order_products', 'instacart_orders'])\n",
    "print(df)\n",
    "\n",
    "\n"
   ]
  },
  {
   "cell_type": "markdown",
   "metadata": {},
   "source": [
    "Número de filas de cada tabla"
   ]
  },
  {
   "cell_type": "code",
   "execution_count": 6,
   "metadata": {},
   "outputs": [
    {
     "name": "stdout",
     "output_type": "stream",
     "text": [
      "                  No. de registros\n",
      "aisles                         134\n",
      "departments                     21\n",
      "products                     49694\n",
      "order_products             4545007\n",
      "instacart_orders            478967\n"
     ]
    }
   ],
   "source": [
    "no_aisles = len(aisles)\n",
    "no_departments = len(departments)\n",
    "no_products = len(products)\n",
    "no_order_products = len(order_products)\n",
    "no_instacart_orders = len(instacart_orders)\n",
    "#Mostrar los resultados en una tabla de pandas\n",
    "data = {'No. de registros': [no_aisles, no_departments, no_products, no_order_products, no_instacart_orders]}\n",
    "df = pd.DataFrame(data, index=['aisles', 'departments', 'products', 'order_products', 'instacart_orders'])\n",
    "print(df)"
   ]
  },
  {
   "cell_type": "markdown",
   "metadata": {},
   "source": [
    "3. Estadísticos descrriptivos básicos\n",
    "Se aplicarán estas medidas únicamente para atributos de tablas con valores numéricos relevantes; es decir, se omiten los IDs para esta sección. Los atributos relevantes son: add_to_cart_order, reordered, order_dow, days_since_prior_order,order_hour_of_day"
   ]
  },
  {
   "cell_type": "markdown",
   "metadata": {},
   "source": [
    "Valores únicos"
   ]
  },
  {
   "cell_type": "code",
   "execution_count": 7,
   "metadata": {},
   "outputs": [
    {
     "name": "stdout",
     "output_type": "stream",
     "text": [
      "Valores únicos de add_to_cart_order\n",
      "[1.0, 2.0, 3.0, 4.0, 5.0, 6.0, 7.0, 8.0, 9.0, 10.0, 11.0, 12.0, 13.0, 14.0, 15.0, 16.0, 17.0, 18.0, 19.0, 20.0, 21.0, 22.0, 23.0, 24.0, 25.0, 26.0, 27.0, 28.0, 29.0, 30.0, 31.0, 32.0, 33.0, 34.0, 35.0, 36.0, 37.0, 38.0, 39.0, 40.0, 41.0, 42.0, 43.0, 44.0, 45.0, 46.0, 47.0, 48.0, 49.0, 50.0, 51.0, 52.0, 53.0, 54.0, 55.0, 56.0, 57.0, 58.0, 59.0, 60.0, 61.0, 62.0, 63.0, 64.0, nan]\n",
      "Cantidad de valores únicos de add_to_cart_order:  65\n",
      "\n",
      "Valores únicos de reordered\n",
      "[0, 1]\n",
      "Cantidad de valores únicos de reordered:  2\n",
      "\n",
      "Valores únicos de order_dow\n",
      "[0, 1, 2, 3, 4, 5, 6]\n",
      "Cantidad de valores únicos de order_dow:  7\n",
      "\n",
      "Valores únicos de order_hour_of_day\n",
      "[0, 1, 2, 3, 4, 5, 6, 7, 8, 9, 10, 11, 12, 13, 14, 15, 16, 17, 18, 19, 20, 21, 22, 23]\n",
      "Cantidad de valores únicos de order_hour_of_day:  24\n",
      "\n",
      "Valores únicos de days_since_prior_order\n",
      "[0.0, 1.0, 2.0, 3.0, 4.0, 5.0, 6.0, 7.0, 8.0, 9.0, 10.0, 11.0, 12.0, 13.0, 14.0, 15.0, 16.0, 17.0, 18.0, 19.0, 20.0, 21.0, 22.0, 23.0, 24.0, 25.0, 26.0, 27.0, 29.0, 30.0, nan, 28.0]\n",
      "Cantidad de valores únicos de days_since_prior_order:  32\n",
      "\n"
     ]
    }
   ],
   "source": [
    "#Valores únicos de cada atributo y valor que toman\n",
    "#Add_to_cart_order\n",
    "print(\"Valores únicos de add_to_cart_order\")\n",
    "order_products_add_to_cart_order_unique = order_products['add_to_cart_order'].unique()\n",
    "print(sorted(order_products_add_to_cart_order_unique))\n",
    "print(\"Cantidad de valores únicos de add_to_cart_order: \", len(order_products_add_to_cart_order_unique))\n",
    "print()\n",
    "#Reordered\n",
    "print(\"Valores únicos de reordered\")\n",
    "order_products_reordered_unique = order_products['reordered'].unique()\n",
    "print(sorted(order_products_reordered_unique))\n",
    "print(\"Cantidad de valores únicos de reordered: \", len(order_products_reordered_unique))\n",
    "print()\n",
    "#Order_dow\n",
    "print(\"Valores únicos de order_dow\")\n",
    "instacart_orders_order_dow_unique = instacart_orders['order_dow'].unique()\n",
    "print(sorted(instacart_orders_order_dow_unique))\n",
    "print(\"Cantidad de valores únicos de order_dow: \", len(instacart_orders_order_dow_unique))\n",
    "print()\n",
    "#Order_hour_of_day\n",
    "print(\"Valores únicos de order_hour_of_day\")\n",
    "instacart_orders_order_hour_of_day_unique = instacart_orders['order_hour_of_day'].unique()\n",
    "print(sorted(instacart_orders_order_hour_of_day_unique))\n",
    "print(\"Cantidad de valores únicos de order_hour_of_day: \", len(instacart_orders_order_hour_of_day_unique))\n",
    "print()\n",
    "#Days_since_prior_order\n",
    "print(\"Valores únicos de days_since_prior_order\")\n",
    "instacart_orders_days_since_prior_order_unique = instacart_orders['days_since_prior_order'].unique()\n",
    "print(sorted(instacart_orders_days_since_prior_order_unique))\n",
    "print(\"Cantidad de valores únicos de days_since_prior_order: \", len(instacart_orders_days_since_prior_order_unique))\n",
    "print()"
   ]
  },
  {
   "cell_type": "markdown",
   "metadata": {},
   "source": [
    "Promedio, Mediana, Moda, Varianza y Desviación Estándar (varianza y desviación estándar calculadas para la población) e histograma\n",
    "Se utilizo los resultados de valores únicos para saber la longitud del histograma"
   ]
  },
  {
   "cell_type": "code",
   "execution_count": 8,
   "metadata": {},
   "outputs": [
    {
     "name": "stdout",
     "output_type": "stream",
     "text": [
      "Promedio de add_to_cart_order:  8.351669424412066\n",
      "Mediana de add_to_cart_order:  6.0\n",
      "Moda de add_to_cart_order:  1.0  con  450046  repeticiones\n",
      "Varianza poblacional de add_to_cart_order:  50.1315954181733\n",
      "Desviación estándar de add_to_cart_order:  7.0803668985564086\n"
     ]
    }
   ],
   "source": [
    "#Add_to_cart_order\n",
    "promedio_add_to_cart_order = order_products['add_to_cart_order'].mean()\n",
    "mediana_add_to_cart_order = order_products['add_to_cart_order'].median()\n",
    "moda_add_to_cart_order = order_products['add_to_cart_order'].mode()\n",
    "varianza_pob_add_to_cart_order = order_products['add_to_cart_order'].var(ddof=0)#ddof=0 poblacional para que \n",
    "#la varianza sea dividida por n en lugar de n-1\n",
    "desviacion_add_to_cart_order = order_products['add_to_cart_order'].std(ddof=0)#ddof=0 poblacional para que\n",
    "#la desviación estandar sea dividida por n en lugar de n-1\n",
    "\n",
    "print(\"Promedio de add_to_cart_order: \", promedio_add_to_cart_order)\n",
    "print(\"Mediana de add_to_cart_order: \", mediana_add_to_cart_order)\n",
    "print(\"Moda de add_to_cart_order: \", moda_add_to_cart_order[0], \" con \", order_products['add_to_cart_order'].value_counts()[moda_add_to_cart_order[0]], \" repeticiones\")\n",
    "print(\"Varianza poblacional de add_to_cart_order: \", varianza_pob_add_to_cart_order)\n",
    "print(\"Desviación estándar de add_to_cart_order: \", desviacion_add_to_cart_order)\n",
    "\n",
    "\n"
   ]
  },
  {
   "cell_type": "code",
   "execution_count": 9,
   "metadata": {},
   "outputs": [
    {
     "name": "stdout",
     "output_type": "stream",
     "text": [
      "Moda de reordered:  1  con  2683838  repeticiones\n"
     ]
    }
   ],
   "source": [
    "#Reordered, solo se calcula la moda debido a que es una variable categórica\n",
    "moda_reordered = order_products['reordered'].mode()\n",
    "print(\"Moda de reordered: \", moda_reordered[0], \" con \", order_products['reordered'].value_counts()[moda_reordered[0]], \" repeticiones\")"
   ]
  },
  {
   "cell_type": "code",
   "execution_count": 10,
   "metadata": {},
   "outputs": [
    {
     "name": "stdout",
     "output_type": "stream",
     "text": [
      "Promedio de order_dow:  2.775057571816012\n",
      "Mediana de order_dow:  3.0\n",
      "Moda de order_dow:  0  con  84090  repeticiones\n",
      "Varianza poblacional de order_dow:  4.185571663157289\n",
      "Desviación estándar de order_dow:  2.045866971031423\n"
     ]
    }
   ],
   "source": [
    "#Order_dow\n",
    "promedio_order_dow = instacart_orders['order_dow'].mean()\n",
    "mediana_order_dow = instacart_orders['order_dow'].median()\n",
    "moda_order_dow = instacart_orders['order_dow'].mode()\n",
    "varianza_pob_order_dow = instacart_orders['order_dow'].var(ddof=0)\n",
    "desviacion_order_dow = instacart_orders['order_dow'].std(ddof=0)\n",
    "\n",
    "print(\"Promedio de order_dow: \", promedio_order_dow)\n",
    "print(\"Mediana de order_dow: \", mediana_order_dow)\n",
    "print(\"Moda de order_dow: \", moda_order_dow[0], \" con \", instacart_orders['order_dow'].value_counts()[moda_order_dow[0]], \" repeticiones\")\n",
    "print(\"Varianza poblacional de order_dow: \", varianza_pob_order_dow)\n",
    "print(\"Desviación estándar de order_dow: \", desviacion_order_dow)\n",
    "\n"
   ]
  },
  {
   "cell_type": "code",
   "execution_count": 11,
   "metadata": {},
   "outputs": [
    {
     "name": "stdout",
     "output_type": "stream",
     "text": [
      "Promedio de order_hour_of_day:  13.446675867022154\n",
      "Mediana de order_hour_of_day:  13.0\n",
      "Moda de order_hour_of_day:  10  con  40578  repeticiones\n",
      "Varianza poblacional de order_hour_of_day:  17.85046949994818\n",
      "Desviación estándar de order_hour_of_day:  4.224981597586926\n"
     ]
    }
   ],
   "source": [
    "#Order_hour_of_day\n",
    "promedio_order_hour_of_day = instacart_orders['order_hour_of_day'].mean()\n",
    "mediana_order_hour_of_day = instacart_orders['order_hour_of_day'].median()\n",
    "moda_order_hour_of_day = instacart_orders['order_hour_of_day'].mode()\n",
    "varianza_pob_order_hour_of_day = instacart_orders['order_hour_of_day'].var(ddof=0)\n",
    "desviacion_order_hour_of_day = instacart_orders['order_hour_of_day'].std(ddof=0)\n",
    "\n",
    "print(\"Promedio de order_hour_of_day: \", promedio_order_hour_of_day)\n",
    "print(\"Mediana de order_hour_of_day: \", mediana_order_hour_of_day)\n",
    "print(\"Moda de order_hour_of_day: \", moda_order_hour_of_day[0], \" con \", instacart_orders['order_hour_of_day'].value_counts()[moda_order_hour_of_day[0]], \" repeticiones\")\n",
    "print(\"Varianza poblacional de order_hour_of_day: \", varianza_pob_order_hour_of_day)\n",
    "print(\"Desviación estándar de order_hour_of_day: \", desviacion_order_hour_of_day)"
   ]
  },
  {
   "cell_type": "code",
   "execution_count": 12,
   "metadata": {},
   "outputs": [
    {
     "name": "stdout",
     "output_type": "stream",
     "text": [
      "Promedio de days_since_prior_order:  11.101750979677794\n",
      "Mediana de days_since_prior_order:  7.0\n",
      "Moda de days_since_prior_order:  30.0  con  51338  repeticiones\n",
      "Varianza poblacional de days_since_prior_order:  84.45544687497849\n",
      "Desviación estándar de days_since_prior_order:  9.189964465381708\n"
     ]
    }
   ],
   "source": [
    "#Days_since_prior_order\n",
    "promedio_days_since_prior_order = instacart_orders['days_since_prior_order'].mean()\n",
    "mediana_days_since_prior_order = instacart_orders['days_since_prior_order'].median()\n",
    "moda_days_since_prior_order = instacart_orders['days_since_prior_order'].mode()\n",
    "varianza_pob_days_since_prior_order = instacart_orders['days_since_prior_order'].var(ddof=0)\n",
    "desviacion_days_since_prior_order = instacart_orders['days_since_prior_order'].std(ddof=0)\n",
    "\n",
    "print(\"Promedio de days_since_prior_order: \", promedio_days_since_prior_order)\n",
    "print(\"Mediana de days_since_prior_order: \", mediana_days_since_prior_order)\n",
    "print(\"Moda de days_since_prior_order: \", moda_days_since_prior_order[0], \" con \", instacart_orders['days_since_prior_order'].value_counts()[moda_days_since_prior_order[0]], \" repeticiones\")\n",
    "print(\"Varianza poblacional de days_since_prior_order: \", varianza_pob_days_since_prior_order)\n",
    "print(\"Desviación estándar de days_since_prior_order: \", desviacion_days_since_prior_order)\n"
   ]
  },
  {
   "cell_type": "markdown",
   "metadata": {},
   "source": [
    "Histogramas"
   ]
  },
  {
   "cell_type": "code",
   "execution_count": 13,
   "metadata": {},
   "outputs": [
    {
     "data": {
      "image/png": "[encoded data removed]",
      "text/plain": [
       "<Figure size 1200x600 with 1 Axes>"
      ]
     },
     "metadata": {},
     "output_type": "display_data"
    },
    {
     "data": {
      "image/png": "[encoded data removed]",
      "text/plain": [
       "<Figure size 1200x600 with 1 Axes>"
      ]
     },
     "metadata": {},
     "output_type": "display_data"
    },
    {
     "data": {
      "image/png": "[encoded data removed]",
      "text/plain": [
       "<Figure size 1200x600 with 1 Axes>"
      ]
     },
     "metadata": {},
     "output_type": "display_data"
    },
    {
     "data": {
      "image/png": "[encoded data removed]",
      "text/plain": [
       "<Figure size 1200x600 with 1 Axes>"
      ]
     },
     "metadata": {},
     "output_type": "display_data"
    },
    {
     "data": {
      "image/png": "[encoded data removed]",
      "text/plain": [
       "<Figure size 1200x600 with 1 Axes>"
      ]
     },
     "metadata": {},
     "output_type": "display_data"
    }
   ],
   "source": [
    "#Add_to_cart_order\n",
    "# Contar la frecuencia de cada categoría\n",
    "add_to_cart_order_counts = order_products['add_to_cart_order'].value_counts().sort_index()\n",
    "\n",
    "# Graficar el histograma\n",
    "plt.figure(figsize=(12, 6))  # Ajustar el tamaño de la figura\n",
    "plt.bar(add_to_cart_order_counts.index, add_to_cart_order_counts.values, color='green', alpha=0.75, edgecolor='black')\n",
    "\n",
    "# Ajustar los ticks del eje X\n",
    "plt.xticks(add_to_cart_order_counts.index[::2], rotation=45, ha='right')  # Mostrar solo cada 10 valores y rotarlos\n",
    "# Etiquetas y título\n",
    "plt.xlabel('add_to_cart_order')\n",
    "plt.ylabel('Frecuencia')\n",
    "plt.title('Histograma de add_to_cart_order')\n",
    "\n",
    "#Reordered\n",
    "reordered_counts = order_products['reordered'].value_counts().sort_index()\n",
    "plt.figure(figsize=(12, 6))\n",
    "plt.bar(reordered_counts.index, reordered_counts.values, color='g', alpha=0.75, edgecolor='black')\n",
    "plt.xticks(reordered_counts.index) \n",
    "plt.xlabel('Reordered')\n",
    "plt.ylabel('Frecuencia')\n",
    "plt.title('Histograma de Reordered')\n",
    "\n",
    "#Order_dow\n",
    "order_dow_counts = instacart_orders['order_dow'].value_counts().sort_index()\n",
    "plt.figure(figsize=(12, 6))\n",
    "plt.bar(order_dow_counts.index, order_dow_counts.values, color='g', alpha=0.75, edgecolor='black')\n",
    "plt.xticks(order_dow_counts.index)\n",
    "plt.xlabel('Order_dow')\n",
    "plt.ylabel('Frecuencia')\n",
    "plt.title('Histograma de Order_dow')\n",
    "\n",
    "#Order_hour_of_day\n",
    "order_hour_of_day_counts = instacart_orders['order_hour_of_day'].value_counts().sort_index()\n",
    "plt.figure(figsize=(12, 6))\n",
    "plt.bar(order_hour_of_day_counts.index, order_hour_of_day_counts.values, color='g', alpha=0.75, edgecolor='black')\n",
    "plt.xticks(order_hour_of_day_counts.index)\n",
    "plt.xlabel('Order_hour_of_day')\n",
    "plt.ylabel('Frecuencia')\n",
    "plt.title('Histograma de Order_hour_of_day')\n",
    "plt.show()\n",
    "\n",
    "#Days_since_prior_order\n",
    "days_since_prior_order_counts = instacart_orders['days_since_prior_order'].value_counts().sort_index()\n",
    "plt.figure(figsize=(12, 6))\n",
    "plt.bar(days_since_prior_order_counts.index, days_since_prior_order_counts.values, color='g', alpha=0.75, edgecolor='black')\n",
    "plt.xticks(days_since_prior_order_counts.index)\n",
    "plt.xlabel('Days_since_prior_order')\n",
    "plt.ylabel('Frecuencia')\n",
    "plt.title('Histograma de Days_since_prior_order')\n",
    "plt.show()"
   ]
  },
  {
   "cell_type": "markdown",
   "metadata": {},
   "source": [
    "4. Problemas de calidad"
   ]
  },
  {
   "cell_type": "markdown",
   "metadata": {},
   "source": [
    "Valores ausentes (visualizados en el resumen de los dataframes), pero confirmados con búsquedas concretas"
   ]
  },
  {
   "cell_type": "code",
   "execution_count": 14,
   "metadata": {},
   "outputs": [],
   "source": [
    "def ver_ausentes(df):\n",
    "    nulos=df.isnull().sum()\n",
    "    print(\"Atributos con valores nulos\")\n",
    "    print(nulos)\n",
    "\n",
    "    print()"
   ]
  },
  {
   "cell_type": "code",
   "execution_count": 15,
   "metadata": {},
   "outputs": [
    {
     "name": "stdout",
     "output_type": "stream",
     "text": [
      "Aisles\n",
      "Atributos con valores nulos\n",
      "aisle_id    0\n",
      "aisle       0\n",
      "dtype: int64\n",
      "\n",
      "Departments\n",
      "Atributos con valores nulos\n",
      "department_id    0\n",
      "department       0\n",
      "dtype: int64\n",
      "\n",
      "Products\n",
      "Atributos con valores nulos\n",
      "product_id          0\n",
      "product_name     1258\n",
      "aisle_id            0\n",
      "department_id       0\n",
      "dtype: int64\n",
      "\n",
      "Order Products\n",
      "Atributos con valores nulos\n",
      "order_id               0\n",
      "product_id             0\n",
      "add_to_cart_order    836\n",
      "reordered              0\n",
      "dtype: int64\n",
      "\n",
      "Instacart Orders\n",
      "Atributos con valores nulos\n",
      "id                            0\n",
      "order_id                      0\n",
      "user_id                       0\n",
      "order_number                  0\n",
      "order_dow                     0\n",
      "order_hour_of_day             0\n",
      "days_since_prior_order    28819\n",
      "dtype: int64\n",
      "\n"
     ]
    }
   ],
   "source": [
    "#Verificar valores ausentes o vacíos\n",
    "print(\"Aisles\")\n",
    "ver_ausentes(aisles)\n",
    "print(\"Departments\")\n",
    "ver_ausentes(departments)\n",
    "print(\"Products\")\n",
    "ver_ausentes(products)\n",
    "print(\"Order Products\")\n",
    "ver_ausentes(order_products)\n",
    "print(\"Instacart Orders\")\n",
    "ver_ausentes(instacart_orders)"
   ]
  },
  {
   "cell_type": "code",
   "execution_count": 16,
   "metadata": {},
   "outputs": [
    {
     "name": "stdout",
     "output_type": "stream",
     "text": [
      "Valores nulos en tabla products\n"
     ]
    },
    {
     "data": {
      "text/html": [
       "<div>\n",
       "<style scoped>\n",
       "    .dataframe tbody tr th:only-of-type {\n",
       "        vertical-align: middle;\n",
       "    }\n",
       "\n",
       "    .dataframe tbody tr th {\n",
       "        vertical-align: top;\n",
       "    }\n",
       "\n",
       "    .dataframe thead th {\n",
       "        text-align: right;\n",
       "    }\n",
       "</style>\n",
       "<table border=\"1\" class=\"dataframe\">\n",
       "  <thead>\n",
       "    <tr style=\"text-align: right;\">\n",
       "      <th></th>\n",
       "      <th>product_id</th>\n",
       "      <th>product_name</th>\n",
       "      <th>aisle_id</th>\n",
       "      <th>department_id</th>\n",
       "    </tr>\n",
       "  </thead>\n",
       "  <tbody>\n",
       "    <tr>\n",
       "      <th>37</th>\n",
       "      <td>38</td>\n",
       "      <td>None</td>\n",
       "      <td>100</td>\n",
       "      <td>21</td>\n",
       "    </tr>\n",
       "    <tr>\n",
       "      <th>71</th>\n",
       "      <td>72</td>\n",
       "      <td>None</td>\n",
       "      <td>100</td>\n",
       "      <td>21</td>\n",
       "    </tr>\n",
       "    <tr>\n",
       "      <th>109</th>\n",
       "      <td>110</td>\n",
       "      <td>None</td>\n",
       "      <td>100</td>\n",
       "      <td>21</td>\n",
       "    </tr>\n",
       "    <tr>\n",
       "      <th>296</th>\n",
       "      <td>297</td>\n",
       "      <td>None</td>\n",
       "      <td>100</td>\n",
       "      <td>21</td>\n",
       "    </tr>\n",
       "    <tr>\n",
       "      <th>416</th>\n",
       "      <td>417</td>\n",
       "      <td>None</td>\n",
       "      <td>100</td>\n",
       "      <td>21</td>\n",
       "    </tr>\n",
       "  </tbody>\n",
       "</table>\n",
       "</div>"
      ],
      "text/plain": [
       "     product_id product_name  aisle_id  department_id\n",
       "37           38         None       100             21\n",
       "71           72         None       100             21\n",
       "109         110         None       100             21\n",
       "296         297         None       100             21\n",
       "416         417         None       100             21"
      ]
     },
     "execution_count": 16,
     "metadata": {},
     "output_type": "execute_result"
    }
   ],
   "source": [
    "#Análisis de valores nulos en tabla products\n",
    "print(\"Valores nulos en tabla products\")\n",
    "productos_nombres_nulos = products[products['product_name'].isnull()]\n",
    "productos_nombres_nulos.head()"
   ]
  },
  {
   "cell_type": "markdown",
   "metadata": {},
   "source": [
    "Como parece existir una coincidencia en aisle_id y department_id se buscan posibles valores que no tengan aisle_id 100 y department_id 21"
   ]
  },
  {
   "cell_type": "code",
   "execution_count": 17,
   "metadata": {},
   "outputs": [
    {
     "name": "stdout",
     "output_type": "stream",
     "text": [
      "Productos con aisle_id y department_id diferentes de 100 y 21\n"
     ]
    },
    {
     "data": {
      "text/html": [
       "<div>\n",
       "<style scoped>\n",
       "    .dataframe tbody tr th:only-of-type {\n",
       "        vertical-align: middle;\n",
       "    }\n",
       "\n",
       "    .dataframe tbody tr th {\n",
       "        vertical-align: top;\n",
       "    }\n",
       "\n",
       "    .dataframe thead th {\n",
       "        text-align: right;\n",
       "    }\n",
       "</style>\n",
       "<table border=\"1\" class=\"dataframe\">\n",
       "  <thead>\n",
       "    <tr style=\"text-align: right;\">\n",
       "      <th></th>\n",
       "      <th>product_id</th>\n",
       "      <th>product_name</th>\n",
       "      <th>aisle_id</th>\n",
       "      <th>department_id</th>\n",
       "    </tr>\n",
       "  </thead>\n",
       "  <tbody>\n",
       "  </tbody>\n",
       "</table>\n",
       "</div>"
      ],
      "text/plain": [
       "Empty DataFrame\n",
       "Columns: [product_id, product_name, aisle_id, department_id]\n",
       "Index: []"
      ]
     },
     "execution_count": 17,
     "metadata": {},
     "output_type": "execute_result"
    }
   ],
   "source": [
    "productos_no_iguales=productos_nombres_nulos = productos_nombres_nulos[(productos_nombres_nulos['aisle_id']!=100) | (productos_nombres_nulos['department_id']!=21)]\n",
    "print(\"Productos con aisle_id y department_id diferentes de 100 y 21\")\n",
    "productos_no_iguales.head()"
   ]
  },
  {
   "cell_type": "markdown",
   "metadata": {},
   "source": [
    "Al no existir más productos con nombre nulo se analiza el id del departamento y el aisle para tener más contexto"
   ]
  },
  {
   "cell_type": "code",
   "execution_count": 18,
   "metadata": {},
   "outputs": [
    {
     "name": "stdout",
     "output_type": "stream",
     "text": [
      "Aisle 100\n",
      "    aisle_id    aisle\n",
      "99       100  missing\n",
      "Department 21\n",
      "    department_id department\n",
      "20             21    missing\n"
     ]
    }
   ],
   "source": [
    "aisles_100 = aisles[aisles['aisle_id']==100]\n",
    "departments_21 = departments[departments['department_id']==21]\n",
    "print(\"Aisle 100\")\n",
    "print(aisles_100)\n",
    "print(\"Department 21\")\n",
    "print(departments_21)"
   ]
  },
  {
   "cell_type": "markdown",
   "metadata": {},
   "source": [
    "Ambos ids corresponden a missing, por lo que tiene sentido el valor nulo del producto. Sin embargo, se va a cambiar el nombre a Unknown Product para evitar dejar nulos"
   ]
  },
  {
   "cell_type": "code",
   "execution_count": 19,
   "metadata": {},
   "outputs": [
    {
     "name": "stdout",
     "output_type": "stream",
     "text": [
      "Valores nulos en tabla order_products\n"
     ]
    },
    {
     "data": {
      "text/html": [
       "<div>\n",
       "<style scoped>\n",
       "    .dataframe tbody tr th:only-of-type {\n",
       "        vertical-align: middle;\n",
       "    }\n",
       "\n",
       "    .dataframe tbody tr th {\n",
       "        vertical-align: top;\n",
       "    }\n",
       "\n",
       "    .dataframe thead th {\n",
       "        text-align: right;\n",
       "    }\n",
       "</style>\n",
       "<table border=\"1\" class=\"dataframe\">\n",
       "  <thead>\n",
       "    <tr style=\"text-align: right;\">\n",
       "      <th></th>\n",
       "      <th>order_id</th>\n",
       "      <th>product_id</th>\n",
       "      <th>add_to_cart_order</th>\n",
       "      <th>reordered</th>\n",
       "    </tr>\n",
       "  </thead>\n",
       "  <tbody>\n",
       "    <tr>\n",
       "      <th>12802</th>\n",
       "      <td>9310</td>\n",
       "      <td>25753</td>\n",
       "      <td>NaN</td>\n",
       "      <td>0</td>\n",
       "    </tr>\n",
       "    <tr>\n",
       "      <th>82485</th>\n",
       "      <td>61355</td>\n",
       "      <td>1087</td>\n",
       "      <td>NaN</td>\n",
       "      <td>0</td>\n",
       "    </tr>\n",
       "    <tr>\n",
       "      <th>82487</th>\n",
       "      <td>61355</td>\n",
       "      <td>1203</td>\n",
       "      <td>NaN</td>\n",
       "      <td>0</td>\n",
       "    </tr>\n",
       "    <tr>\n",
       "      <th>82489</th>\n",
       "      <td>61355</td>\n",
       "      <td>1700</td>\n",
       "      <td>NaN</td>\n",
       "      <td>0</td>\n",
       "    </tr>\n",
       "    <tr>\n",
       "      <th>82492</th>\n",
       "      <td>61355</td>\n",
       "      <td>3390</td>\n",
       "      <td>NaN</td>\n",
       "      <td>0</td>\n",
       "    </tr>\n",
       "  </tbody>\n",
       "</table>\n",
       "</div>"
      ],
      "text/plain": [
       "       order_id  product_id  add_to_cart_order  reordered\n",
       "12802      9310       25753                NaN          0\n",
       "82485     61355        1087                NaN          0\n",
       "82487     61355        1203                NaN          0\n",
       "82489     61355        1700                NaN          0\n",
       "82492     61355        3390                NaN          0"
      ]
     },
     "execution_count": 19,
     "metadata": {},
     "output_type": "execute_result"
    }
   ],
   "source": [
    "#Análisis de valores nulos en tabla order_products\n",
    "print(\"Valores nulos en tabla order_products\")\n",
    "order_products_nulos = order_products[order_products['add_to_cart_order'].isnull()]\n",
    "order_products_nulos.head()"
   ]
  },
  {
   "cell_type": "markdown",
   "metadata": {},
   "source": [
    "Se verifica si hay casos en donde reordered es diferente de 0 para los valores nulos."
   ]
  },
  {
   "cell_type": "code",
   "execution_count": 20,
   "metadata": {},
   "outputs": [
    {
     "data": {
      "text/html": [
       "<div>\n",
       "<style scoped>\n",
       "    .dataframe tbody tr th:only-of-type {\n",
       "        vertical-align: middle;\n",
       "    }\n",
       "\n",
       "    .dataframe tbody tr th {\n",
       "        vertical-align: top;\n",
       "    }\n",
       "\n",
       "    .dataframe thead th {\n",
       "        text-align: right;\n",
       "    }\n",
       "</style>\n",
       "<table border=\"1\" class=\"dataframe\">\n",
       "  <thead>\n",
       "    <tr style=\"text-align: right;\">\n",
       "      <th></th>\n",
       "      <th>order_id</th>\n",
       "      <th>product_id</th>\n",
       "      <th>add_to_cart_order</th>\n",
       "      <th>reordered</th>\n",
       "    </tr>\n",
       "  </thead>\n",
       "  <tbody>\n",
       "    <tr>\n",
       "      <th>227256</th>\n",
       "      <td>171934</td>\n",
       "      <td>18095</td>\n",
       "      <td>NaN</td>\n",
       "      <td>1</td>\n",
       "    </tr>\n",
       "    <tr>\n",
       "      <th>227259</th>\n",
       "      <td>171934</td>\n",
       "      <td>18479</td>\n",
       "      <td>NaN</td>\n",
       "      <td>1</td>\n",
       "    </tr>\n",
       "    <tr>\n",
       "      <th>227277</th>\n",
       "      <td>171934</td>\n",
       "      <td>26032</td>\n",
       "      <td>NaN</td>\n",
       "      <td>1</td>\n",
       "    </tr>\n",
       "    <tr>\n",
       "      <th>346750</th>\n",
       "      <td>264710</td>\n",
       "      <td>1143</td>\n",
       "      <td>NaN</td>\n",
       "      <td>1</td>\n",
       "    </tr>\n",
       "    <tr>\n",
       "      <th>346770</th>\n",
       "      <td>264710</td>\n",
       "      <td>14947</td>\n",
       "      <td>NaN</td>\n",
       "      <td>1</td>\n",
       "    </tr>\n",
       "  </tbody>\n",
       "</table>\n",
       "</div>"
      ],
      "text/plain": [
       "        order_id  product_id  add_to_cart_order  reordered\n",
       "227256    171934       18095                NaN          1\n",
       "227259    171934       18479                NaN          1\n",
       "227277    171934       26032                NaN          1\n",
       "346750    264710        1143                NaN          1\n",
       "346770    264710       14947                NaN          1"
      ]
     },
     "execution_count": 20,
     "metadata": {},
     "output_type": "execute_result"
    }
   ],
   "source": [
    "reordered_no_cero=order_products_nulos[(order_products_nulos['reordered']!=0)]\n",
    "reordered_no_cero.head()"
   ]
  },
  {
   "cell_type": "markdown",
   "metadata": {},
   "source": [
    "Por el título del atributo se supone que esos productos fueron añadidos simultaneamente con otros. Por lo que se puede reemplazar el valor con un 1, dando a entender que los productos fueron añadidos a la vez (tienen el mayor orden en el carrito). Para confirmar la suposición se valida que no existan ordenes del mismo order_id con add_to_cart_order iguales pero product_id_diferentes."
   ]
  },
  {
   "cell_type": "code",
   "execution_count": 21,
   "metadata": {},
   "outputs": [
    {
     "data": {
      "text/html": [
       "<div>\n",
       "<style scoped>\n",
       "    .dataframe tbody tr th:only-of-type {\n",
       "        vertical-align: middle;\n",
       "    }\n",
       "\n",
       "    .dataframe tbody tr th {\n",
       "        vertical-align: top;\n",
       "    }\n",
       "\n",
       "    .dataframe thead th {\n",
       "        text-align: right;\n",
       "    }\n",
       "</style>\n",
       "<table border=\"1\" class=\"dataframe\">\n",
       "  <thead>\n",
       "    <tr style=\"text-align: right;\">\n",
       "      <th></th>\n",
       "      <th>order_id</th>\n",
       "      <th>product_id</th>\n",
       "      <th>add_to_cart_order</th>\n",
       "      <th>reordered</th>\n",
       "    </tr>\n",
       "  </thead>\n",
       "  <tbody>\n",
       "    <tr>\n",
       "      <th>82485</th>\n",
       "      <td>61355</td>\n",
       "      <td>1087</td>\n",
       "      <td>NaN</td>\n",
       "      <td>0</td>\n",
       "    </tr>\n",
       "    <tr>\n",
       "      <th>82487</th>\n",
       "      <td>61355</td>\n",
       "      <td>1203</td>\n",
       "      <td>NaN</td>\n",
       "      <td>0</td>\n",
       "    </tr>\n",
       "    <tr>\n",
       "      <th>82489</th>\n",
       "      <td>61355</td>\n",
       "      <td>1700</td>\n",
       "      <td>NaN</td>\n",
       "      <td>0</td>\n",
       "    </tr>\n",
       "    <tr>\n",
       "      <th>82492</th>\n",
       "      <td>61355</td>\n",
       "      <td>3390</td>\n",
       "      <td>NaN</td>\n",
       "      <td>0</td>\n",
       "    </tr>\n",
       "    <tr>\n",
       "      <th>82496</th>\n",
       "      <td>61355</td>\n",
       "      <td>4781</td>\n",
       "      <td>NaN</td>\n",
       "      <td>0</td>\n",
       "    </tr>\n",
       "  </tbody>\n",
       "</table>\n",
       "</div>"
      ],
      "text/plain": [
       "       order_id  product_id  add_to_cart_order  reordered\n",
       "82485     61355        1087                NaN          0\n",
       "82487     61355        1203                NaN          0\n",
       "82489     61355        1700                NaN          0\n",
       "82492     61355        3390                NaN          0\n",
       "82496     61355        4781                NaN          0"
      ]
     },
     "execution_count": 21,
     "metadata": {},
     "output_type": "execute_result"
    }
   ],
   "source": [
    "#Ordenes con add_to_cart_order iguales, order_id iguales y product_id diferentes\n",
    "order_products_orden = order_products[order_products.duplicated(['add_to_cart_order', 'order_id'], keep=False)]\n",
    "order_products_orden.head()"
   ]
  },
  {
   "cell_type": "markdown",
   "metadata": {},
   "source": [
    "Aparentemente son nulos, finalmente se valida que todos los resultados de esta comparación sean efectivamente nulos para dar la suposición por válida."
   ]
  },
  {
   "cell_type": "code",
   "execution_count": 22,
   "metadata": {},
   "outputs": [
    {
     "data": {
      "text/html": [
       "<div>\n",
       "<style scoped>\n",
       "    .dataframe tbody tr th:only-of-type {\n",
       "        vertical-align: middle;\n",
       "    }\n",
       "\n",
       "    .dataframe tbody tr th {\n",
       "        vertical-align: top;\n",
       "    }\n",
       "\n",
       "    .dataframe thead th {\n",
       "        text-align: right;\n",
       "    }\n",
       "</style>\n",
       "<table border=\"1\" class=\"dataframe\">\n",
       "  <thead>\n",
       "    <tr style=\"text-align: right;\">\n",
       "      <th></th>\n",
       "      <th>order_id</th>\n",
       "      <th>product_id</th>\n",
       "      <th>add_to_cart_order</th>\n",
       "      <th>reordered</th>\n",
       "    </tr>\n",
       "  </thead>\n",
       "  <tbody>\n",
       "  </tbody>\n",
       "</table>\n",
       "</div>"
      ],
      "text/plain": [
       "Empty DataFrame\n",
       "Columns: [order_id, product_id, add_to_cart_order, reordered]\n",
       "Index: []"
      ]
     },
     "execution_count": 22,
     "metadata": {},
     "output_type": "execute_result"
    }
   ],
   "source": [
    "order_products_orden_no_nulos = order_products_orden[order_products_orden['add_to_cart_order'].notnull()]\n",
    "order_products_orden_no_nulos.head()"
   ]
  },
  {
   "cell_type": "markdown",
   "metadata": {},
   "source": [
    "Entonces, para el caso de add_to_cart_order se cambiarán los nulos por 1 en base a la suposición de adiciones simultaneas al carrito."
   ]
  },
  {
   "cell_type": "code",
   "execution_count": 23,
   "metadata": {},
   "outputs": [
    {
     "name": "stdout",
     "output_type": "stream",
     "text": [
      "Valores nulos en tabla instacart_orders\n"
     ]
    },
    {
     "data": {
      "text/html": [
       "<div>\n",
       "<style scoped>\n",
       "    .dataframe tbody tr th:only-of-type {\n",
       "        vertical-align: middle;\n",
       "    }\n",
       "\n",
       "    .dataframe tbody tr th {\n",
       "        vertical-align: top;\n",
       "    }\n",
       "\n",
       "    .dataframe thead th {\n",
       "        text-align: right;\n",
       "    }\n",
       "</style>\n",
       "<table border=\"1\" class=\"dataframe\">\n",
       "  <thead>\n",
       "    <tr style=\"text-align: right;\">\n",
       "      <th></th>\n",
       "      <th>id</th>\n",
       "      <th>order_id</th>\n",
       "      <th>user_id</th>\n",
       "      <th>order_number</th>\n",
       "      <th>order_dow</th>\n",
       "      <th>order_hour_of_day</th>\n",
       "      <th>days_since_prior_order</th>\n",
       "    </tr>\n",
       "  </thead>\n",
       "  <tbody>\n",
       "    <tr>\n",
       "      <th>28</th>\n",
       "      <td>29</td>\n",
       "      <td>133707</td>\n",
       "      <td>182261</td>\n",
       "      <td>1</td>\n",
       "      <td>3</td>\n",
       "      <td>10</td>\n",
       "      <td>NaN</td>\n",
       "    </tr>\n",
       "    <tr>\n",
       "      <th>96</th>\n",
       "      <td>97</td>\n",
       "      <td>787445</td>\n",
       "      <td>25685</td>\n",
       "      <td>1</td>\n",
       "      <td>6</td>\n",
       "      <td>18</td>\n",
       "      <td>NaN</td>\n",
       "    </tr>\n",
       "    <tr>\n",
       "      <th>100</th>\n",
       "      <td>101</td>\n",
       "      <td>294410</td>\n",
       "      <td>111449</td>\n",
       "      <td>1</td>\n",
       "      <td>0</td>\n",
       "      <td>19</td>\n",
       "      <td>NaN</td>\n",
       "    </tr>\n",
       "    <tr>\n",
       "      <th>103</th>\n",
       "      <td>104</td>\n",
       "      <td>2869915</td>\n",
       "      <td>123958</td>\n",
       "      <td>1</td>\n",
       "      <td>4</td>\n",
       "      <td>16</td>\n",
       "      <td>NaN</td>\n",
       "    </tr>\n",
       "    <tr>\n",
       "      <th>104</th>\n",
       "      <td>105</td>\n",
       "      <td>2521921</td>\n",
       "      <td>42286</td>\n",
       "      <td>1</td>\n",
       "      <td>3</td>\n",
       "      <td>18</td>\n",
       "      <td>NaN</td>\n",
       "    </tr>\n",
       "  </tbody>\n",
       "</table>\n",
       "</div>"
      ],
      "text/plain": [
       "      id  order_id  user_id  order_number  order_dow  order_hour_of_day  \\\n",
       "28    29    133707   182261             1          3                 10   \n",
       "96    97    787445    25685             1          6                 18   \n",
       "100  101    294410   111449             1          0                 19   \n",
       "103  104   2869915   123958             1          4                 16   \n",
       "104  105   2521921    42286             1          3                 18   \n",
       "\n",
       "     days_since_prior_order  \n",
       "28                      NaN  \n",
       "96                      NaN  \n",
       "100                     NaN  \n",
       "103                     NaN  \n",
       "104                     NaN  "
      ]
     },
     "execution_count": 23,
     "metadata": {},
     "output_type": "execute_result"
    }
   ],
   "source": [
    "#Análisis de valores nulos en tabla instacart_orders\n",
    "print(\"Valores nulos en tabla instacart_orders\")\n",
    "instacart_orders_nulos = instacart_orders[instacart_orders['days_since_prior_order'].isnull()]\n",
    "instacart_orders_nulos.head()"
   ]
  },
  {
   "cell_type": "markdown",
   "metadata": {},
   "source": [
    "Aparentemente, el NaN es debido a que es su primera orden y no tiene ordenes previas. Como en los valores únicos de days_since_prior_order existe el 0 (ha comprado ese mismo día más productos), se puede cambiar el valor nulo por un -1 dando a entender este comportamiento de primera compra. Se valida que el número de orden sea 1 para todos los casos para verificar la suposición."
   ]
  },
  {
   "cell_type": "code",
   "execution_count": 24,
   "metadata": {},
   "outputs": [
    {
     "data": {
      "text/html": [
       "<div>\n",
       "<style scoped>\n",
       "    .dataframe tbody tr th:only-of-type {\n",
       "        vertical-align: middle;\n",
       "    }\n",
       "\n",
       "    .dataframe tbody tr th {\n",
       "        vertical-align: top;\n",
       "    }\n",
       "\n",
       "    .dataframe thead th {\n",
       "        text-align: right;\n",
       "    }\n",
       "</style>\n",
       "<table border=\"1\" class=\"dataframe\">\n",
       "  <thead>\n",
       "    <tr style=\"text-align: right;\">\n",
       "      <th></th>\n",
       "      <th>id</th>\n",
       "      <th>order_id</th>\n",
       "      <th>user_id</th>\n",
       "      <th>order_number</th>\n",
       "      <th>order_dow</th>\n",
       "      <th>order_hour_of_day</th>\n",
       "      <th>days_since_prior_order</th>\n",
       "    </tr>\n",
       "  </thead>\n",
       "  <tbody>\n",
       "  </tbody>\n",
       "</table>\n",
       "</div>"
      ],
      "text/plain": [
       "Empty DataFrame\n",
       "Columns: [id, order_id, user_id, order_number, order_dow, order_hour_of_day, days_since_prior_order]\n",
       "Index: []"
      ]
     },
     "execution_count": 24,
     "metadata": {},
     "output_type": "execute_result"
    }
   ],
   "source": [
    "instacart_orders_no_primeras=instacart_orders_nulos[(instacart_orders_nulos['order_number']!=1)]\n",
    "instacart_orders_no_primeras.head()"
   ]
  },
  {
   "cell_type": "markdown",
   "metadata": {},
   "source": [
    "Por el resultado, la solución va a ser tratar estos NaN y convertirlos en -1."
   ]
  },
  {
   "cell_type": "markdown",
   "metadata": {},
   "source": [
    "Valores duplicados (toda la consulta de una fila es exactamente la misma o mismas claves primarias). Finalmente se verifica si es una duplicación completa de la fila o solo de los ids"
   ]
  },
  {
   "cell_type": "code",
   "execution_count": 25,
   "metadata": {},
   "outputs": [
    {
     "name": "stdout",
     "output_type": "stream",
     "text": [
      "Número de filas duplicadas en aisles\n",
      "0\n",
      "\n",
      "Número de ids duplicados en aisles\n",
      "0\n"
     ]
    }
   ],
   "source": [
    "#Tabla aisles\n",
    "duplicados=aisles.duplicated().sum()\n",
    "print(\"Número de filas duplicadas en aisles\")\n",
    "print(duplicados)\n",
    "print()\n",
    "ids_duplicados=aisles['aisle_id'].duplicated().sum()\n",
    "print(\"Número de ids duplicados en aisles\")\n",
    "print(ids_duplicados)"
   ]
  },
  {
   "cell_type": "code",
   "execution_count": 26,
   "metadata": {},
   "outputs": [
    {
     "name": "stdout",
     "output_type": "stream",
     "text": [
      "Número de filas duplicadas en departments\n",
      "0\n",
      "\n",
      "Número de ids duplicados en departments\n",
      "0\n"
     ]
    }
   ],
   "source": [
    "#Tabla departments\n",
    "duplicados=departments.duplicated().sum()\n",
    "print(\"Número de filas duplicadas en departments\")\n",
    "print(duplicados)\n",
    "print()\n",
    "ids_duplicados=departments['department_id'].duplicated().sum()\n",
    "print(\"Número de ids duplicados en departments\")\n",
    "print(ids_duplicados)"
   ]
  },
  {
   "cell_type": "code",
   "execution_count": 27,
   "metadata": {},
   "outputs": [
    {
     "name": "stdout",
     "output_type": "stream",
     "text": [
      "Número de filas duplicadas en products\n",
      "0\n",
      "\n",
      "Número de ids duplicados en products\n",
      "0\n"
     ]
    }
   ],
   "source": [
    "#Tabla products\n",
    "duplicados=products.duplicated().sum()\n",
    "print(\"Número de filas duplicadas en products\")\n",
    "print(duplicados)\n",
    "print()\n",
    "ids_duplicados=products['product_id'].duplicated().sum()\n",
    "print(\"Número de ids duplicados en products\")\n",
    "print(ids_duplicados)\n"
   ]
  },
  {
   "cell_type": "code",
   "execution_count": 28,
   "metadata": {},
   "outputs": [
    {
     "name": "stdout",
     "output_type": "stream",
     "text": [
      "Número de filas duplicadas en order_products\n",
      "0\n",
      "\n",
      "Número de ids duplicados en order_products\n",
      "0\n"
     ]
    }
   ],
   "source": [
    "#Tabla order_products\n",
    "duplicados=order_products.duplicated().sum()\n",
    "print(\"Número de filas duplicadas en order_products\")\n",
    "print(duplicados)\n",
    "print()\n",
    "#Order product se define por una tupla de id de orden y id de producto\n",
    "ids_duplicados=order_products.duplicated(subset=['order_id', 'product_id']).sum()\n",
    "print(\"Número de ids duplicados en order_products\")\n",
    "print(ids_duplicados)"
   ]
  },
  {
   "cell_type": "code",
   "execution_count": 29,
   "metadata": {},
   "outputs": [
    {
     "name": "stdout",
     "output_type": "stream",
     "text": [
      "Número de filas duplicadas en instacart_orders\n",
      "15\n",
      "\n",
      "Número de ids duplicados en instacart_orders\n",
      "15\n"
     ]
    }
   ],
   "source": [
    "\n",
    "#Tabla instacart_orders, se generó un id extra porque si existían filas duplicadas, \n",
    "#para el analisis de duplicados se omitirá el id generado de la columna 'id'\n",
    "duplicados=instacart_orders[['order_id', 'user_id', 'order_number', 'order_dow', 'order_hour_of_day', 'days_since_prior_order']].duplicated().sum()\n",
    "print(\"Número de filas duplicadas en instacart_orders\")\n",
    "print(duplicados)\n",
    "print()\n",
    "#Se ve si la duplicación es solo de los ids o también del resto de los atributos\n",
    "ids_duplicados = instacart_orders.duplicated(subset=['order_id', 'user_id']).sum()\n",
    "print(\"Número de ids duplicados en instacart_orders\")\n",
    "print(ids_duplicados)\n",
    "\n"
   ]
  },
  {
   "cell_type": "markdown",
   "metadata": {},
   "source": [
    "Solo se encontraron ids duplicados en instacart_orders. Se procede a validar si los ids duplicados son los mismos u otras coincidencias respecto a los duplicados totales de filas de esa tabla."
   ]
  },
  {
   "cell_type": "code",
   "execution_count": 30,
   "metadata": {},
   "outputs": [
    {
     "name": "stdout",
     "output_type": "stream",
     "text": [
      "Ids duplicados en instacart_orders que no son duplicados totales\n",
      "\n",
      "Número de ids duplicados con distinta información\n",
      "0\n",
      "\n"
     ]
    }
   ],
   "source": [
    "no_ids_duplicados=0\n",
    "print(\"Ids duplicados en instacart_orders que no son duplicados totales\")\n",
    "ids_duplicados=instacart_orders[instacart_orders.duplicated(subset=['order_id', 'user_id'])]\n",
    "for id in ids_duplicados.iterrows():\n",
    "    valor=[int(id[1]['order_id']), int(id[1]['user_id'])]\n",
    "\n",
    "    #Validar en cada columna distinta de id si con el id actual hay duplicados\n",
    "    duplicas=instacart_orders.loc[(instacart_orders['order_id'] == valor[0]) & (instacart_orders['user_id'] == valor[1])]\n",
    "    #Si en los resultados de ids iguales, no hay duplica total, se muestra la fila\n",
    "    #igualmente no se toma en cuenta el id generado del campo 'id'\n",
    "    if duplicas[['order_id', 'user_id', 'order_number', 'order_dow', 'order_hour_of_day', 'days_since_prior_order']].duplicated().sum()==0:\n",
    "        print()\n",
    "        print(\"Coincidencia de ids y distinta información\")\n",
    "        print(duplicas)\n",
    "        no_ids_duplicados+=1\n",
    "print()\n",
    "print(\"Número de ids duplicados con distinta información\")\n",
    "print(no_ids_duplicados)\n",
    "print()"
   ]
  },
  {
   "cell_type": "markdown",
   "metadata": {},
   "source": [
    "Como la duplicación es total (son copias exactas sin ninguna diferencia) el plan de acción será eliminar los duplicados de la tabla instacart_orders."
   ]
  },
  {
   "cell_type": "markdown",
   "metadata": {},
   "source": [
    "Inconsistencias de tipos"
   ]
  },
  {
   "cell_type": "markdown",
   "metadata": {},
   "source": [
    "Análisis más profundo de valores únicos para ver si existe algún valor no entero en los atributos days_since_prior_order, order_dow que actualmente son tratados como float.\n"
   ]
  },
  {
   "cell_type": "code",
   "execution_count": 31,
   "metadata": {},
   "outputs": [
    {
     "name": "stdout",
     "output_type": "stream",
     "text": [
      "Valores no enteros en days_since_prior_order\n",
      "[nan]\n"
     ]
    },
    {
     "name": "stderr",
     "output_type": "stream",
     "text": [
      "C:\\Users\\erics\\AppData\\Local\\Temp\\ipykernel_27004\\4213184591.py:1: RuntimeWarning: invalid value encountered in cast\n",
      "  days_since_prior_order_int=instacart_orders_days_since_prior_order_unique.astype(int)\n"
     ]
    }
   ],
   "source": [
    "days_since_prior_order_int=instacart_orders_days_since_prior_order_unique.astype(int)\n",
    "print(\"Valores no enteros en days_since_prior_order\")\n",
    "print(instacart_orders_days_since_prior_order_unique[instacart_orders_days_since_prior_order_unique!=days_since_prior_order_int])\n"
   ]
  },
  {
   "cell_type": "code",
   "execution_count": 32,
   "metadata": {},
   "outputs": [
    {
     "name": "stdout",
     "output_type": "stream",
     "text": [
      "Valores no enteros en add_to_cart_order\n",
      "[nan]\n"
     ]
    },
    {
     "name": "stderr",
     "output_type": "stream",
     "text": [
      "C:\\Users\\erics\\AppData\\Local\\Temp\\ipykernel_27004\\3203115707.py:1: RuntimeWarning: invalid value encountered in cast\n",
      "  add_to_cart_order_int=order_products_add_to_cart_order_unique.astype(int)\n"
     ]
    }
   ],
   "source": [
    "add_to_cart_order_int=order_products_add_to_cart_order_unique.astype(int)\n",
    "print(\"Valores no enteros en add_to_cart_order\")\n",
    "print(order_products_add_to_cart_order_unique[order_products_add_to_cart_order_unique!=add_to_cart_order_int])"
   ]
  },
  {
   "cell_type": "markdown",
   "metadata": {},
   "source": [
    "Como únicamente el valor NaN se reporto como valor diferente de entero (esto es normal debido a la definición de NaN), es necesaria la conversión de los valores de days_since_prior_order a enteros para evitar problemas en futuros cálculos. De igual manera, para order_dow se realizará la conversión a valores enteros al no encontrar ningún valor decimal que difiera de su conversión entera a excepción del NaN."
   ]
  },
  {
   "cell_type": "markdown",
   "metadata": {},
   "source": [
    "Como en la tabla de valores únicos de reordered únicamente se mostro el 0 y el 1, también será necesaria su conversión del atributo a un atributo boolean que no desperdicie la memoria de una variable int."
   ]
  },
  {
   "cell_type": "markdown",
   "metadata": {},
   "source": [
    "\n",
    "Necesaria la conversión de datos para:\n",
    "\n",
    "Tabla instacart_orders: atributo days_since_prior_order debe ser int\n",
    "\n",
    "Tabla order_products: atributo add_to_cart_order debe ser int\n",
    "\n",
    "Tabla order_products: atributo reordered debe ser boolean\n",
    "\n",
    "La conversión de datos se realizará después de la transformación y manejo de valores faltantes, los cuales serán del tipo de dato resultante después de la conversión final de los datos."
   ]
  },
  {
   "cell_type": "markdown",
   "metadata": {},
   "source": [
    "Datos inconsistentes: validar que order_dow en la tabla instacart orders solo tome valores enteros del 0 al 6. Y que order_hour_of_day de esa misma tabla solo tome valores del 0 al 23"
   ]
  },
  {
   "cell_type": "code",
   "execution_count": 33,
   "metadata": {},
   "outputs": [
    {
     "name": "stdout",
     "output_type": "stream",
     "text": [
      "Valores fuera de rango en order_dow\n",
      "[]\n",
      "\n",
      "Valores fuera de rango en order_hour_of_day\n",
      "[]\n",
      "\n"
     ]
    }
   ],
   "source": [
    "print(\"Valores fuera de rango en order_dow\")\n",
    "print(instacart_orders_order_dow_unique[(instacart_orders_order_dow_unique<0) | (instacart_orders_order_dow_unique>6)])\n",
    "print()\n",
    "print(\"Valores fuera de rango en order_hour_of_day\")\n",
    "print(instacart_orders_order_hour_of_day_unique[(instacart_orders_order_hour_of_day_unique<0) | (instacart_orders_order_hour_of_day_unique>23)])\n",
    "print()"
   ]
  },
  {
   "cell_type": "markdown",
   "metadata": {},
   "source": [
    "No existen valores inconsistentes, por lo que no es encesaria ninguna acción en este apartado."
   ]
  },
  {
   "cell_type": "markdown",
   "metadata": {},
   "source": [
    "Plan de accción:\n",
    "\n",
    "-Tabla products: cambiar los datos Nulos del atributo Product_Name a Unknown Product\n",
    "\n",
    "-Tabla order_products: cambiar los datos nulos del atributo add_to_cart_order a 1.\n",
    "\n",
    "cambiar el tipo de dato de add_to_cart_order a int y de reordered a boolean.\n",
    "\n",
    "\n",
    "-Tabla instacart_orders: cambiar los datos nulos del atributo days_since_prior_order a -1.\n",
    "\n",
    "cambiar el tipo de dato del atributo days_since_prior_order a int.\n",
    "\n",
    "eliminar los duplicados.\n",
    "\n",
    "eliminar la columna de id, que solo sirvió para traer la data total al schema RAW.\n",
    "\n",
    "añadir la columna de fecha, que tome como dato la fecha actual de inserción de los datos de esta tabla."
   ]
  }
 ],
 "metadata": {
  "kernelspec": {
   "display_name": "Python 3",
   "language": "python",
   "name": "python3"
  },
  "language_info": {
   "codemirror_mode": {
    "name": "ipython",
    "version": 3
   },
   "file_extension": ".py",
   "mimetype": "text/x-python",
   "name": "python",
   "nbconvert_exporter": "python",
   "pygments_lexer": "ipython3",
   "version": "3.11.8"
  }
 },
 "nbformat": 4,
 "nbformat_minor": 2
}
