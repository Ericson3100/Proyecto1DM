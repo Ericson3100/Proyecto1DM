{
 "cells": [
  {
   "cell_type": "markdown",
   "metadata": {},
   "source": [
    "Notebook para poder validar la transferencia correcta de la data comparando valores aleatorios de la data en MySQL y la data en Snowflake para cada tabla."
   ]
  },
  {
   "cell_type": "code",
   "execution_count": 1,
   "metadata": {},
   "outputs": [],
   "source": [
    "import mysql.connector\n",
    "import random   \n",
    "import snowflake.connector\n",
    "from os import getenv\n"
   ]
  },
  {
   "cell_type": "code",
   "execution_count": 14,
   "metadata": {},
   "outputs": [],
   "source": [
    "def compare_data(table_name, id_column_name, no_comparisons, rango, mysqlcnx, mysqlcursor,snowflakecnx, snowflakecursor):\n",
    "    ids=[]\n",
    "    for _ in range(no_comparisons):\n",
    "        id = random.randint(1, rango)\n",
    "        ids.append(id)\n",
    "    for id in ids:\n",
    "        mysqlcursor.execute(\"SELECT * FROM %s WHERE %s = %%s\" % (table_name, id_column_name), (id,))\n",
    "        mysqlresult = mysqlcursor.fetchall()\n",
    "        snowflakecursor.execute(\"SELECT * FROM %s WHERE %s = %%s\" % (table_name, id_column_name), (id,))\n",
    "        snowflakeresult = snowflakecursor.fetchall()\n",
    "        if mysqlresult != snowflakeresult:\n",
    "            print(\"Data mismatch for id \"+str(id))\n",
    "            print(\"MySQL: \"+str(mysqlresult))\n",
    "            print(\"Snowflake: \"+str(snowflakeresult))\n",
    "            return False\n",
    "    return True\n",
    "        \n",
    "    "
   ]
  },
  {
   "cell_type": "code",
   "execution_count": 3,
   "metadata": {},
   "outputs": [],
   "source": [
    "config_mysql = {\n",
    "    'user': getenv('DB_USER'),\n",
    "    'password': getenv('DB_PASSWORD'),\n",
    "    'host': '127.0.0.1',\n",
    "    'database': 'instacart_db',\n",
    "    'port': '3306'}\n",
    "config_snowflake = {\n",
    "    'user': getenv('SNOW_USER'),\n",
    "    'password': getenv('SNOW_PASSWORD'),\n",
    "    'account': getenv('SNOW_ACCOUNT'),\n",
    "    'schema': 'RAW',\n",
    "    'database': 'INSTACART_DB',}\n",
    "mysqlcnx = mysql.connector.connect(**config_mysql)\n",
    "mysqlcursor = mysqlcnx.cursor()\n",
    "snowflakecnx = snowflake.connector.connect(**config_snowflake)\n",
    "snowflakecursor = snowflakecnx.cursor()\n",
    "    "
   ]
  },
  {
   "cell_type": "code",
   "execution_count": 8,
   "metadata": {},
   "outputs": [
    {
     "name": "stdout",
     "output_type": "stream",
     "text": [
      "(1, 'frozen')\n",
      "(2, 'other')\n",
      "(3, 'bakery')\n",
      "(4, 'produce')\n",
      "(5, 'alcohol')\n",
      "(6, 'international')\n",
      "(7, 'beverages')\n",
      "(8, 'pets')\n",
      "(9, 'dry goods pasta')\n",
      "(10, 'bulk')\n",
      "(11, 'personal care')\n",
      "(12, 'meat seafood')\n",
      "(13, 'pantry')\n",
      "(14, 'breakfast')\n",
      "(15, 'canned goods')\n",
      "(16, 'dairy eggs')\n",
      "(17, 'household')\n",
      "(18, 'babies')\n",
      "(19, 'snacks')\n",
      "(20, 'deli')\n",
      "(21, 'missing')\n"
     ]
    }
   ],
   "source": [
    "#Consultar tabla aisles en MySQL para validar la conexión\n",
    "mysqlcursor.execute(\"SELECT * FROM departments\")\n",
    "for x in mysqlcursor:\n",
    "    print(x)"
   ]
  },
  {
   "cell_type": "code",
   "execution_count": 9,
   "metadata": {},
   "outputs": [
    {
     "name": "stdout",
     "output_type": "stream",
     "text": [
      "(1, 'frozen')\n",
      "(2, 'other')\n",
      "(3, 'bakery')\n",
      "(4, 'produce')\n",
      "(5, 'alcohol')\n",
      "(6, 'international')\n",
      "(7, 'beverages')\n",
      "(8, 'pets')\n",
      "(9, 'dry goods pasta')\n",
      "(10, 'bulk')\n",
      "(11, 'personal care')\n",
      "(12, 'meat seafood')\n",
      "(13, 'pantry')\n",
      "(14, 'breakfast')\n",
      "(15, 'canned goods')\n",
      "(16, 'dairy eggs')\n",
      "(17, 'household')\n",
      "(18, 'babies')\n",
      "(19, 'snacks')\n",
      "(20, 'deli')\n",
      "(21, 'missing')\n"
     ]
    }
   ],
   "source": [
    "#Consultar tabla aisles en Snowflake para validar la conexión\n",
    "snowflakecursor.execute(\"SELECT * FROM departments\")\n",
    "for x in snowflakecursor:\n",
    "    print(x)"
   ]
  },
  {
   "cell_type": "code",
   "execution_count": 16,
   "metadata": {},
   "outputs": [
    {
     "name": "stdout",
     "output_type": "stream",
     "text": [
      "Comparing aisles\n",
      "Data is consistent\n",
      "\n",
      "Comparing departments\n",
      "Data is consistent\n",
      "\n",
      "Comparing products\n",
      "Data is consistent\n",
      "\n",
      "Comparing order_products\n",
      "Data is consistent\n",
      "\n",
      "Comparing instacart_orders\n",
      "Data is consistent\n"
     ]
    }
   ],
   "source": [
    "# Tabla aisles, 134 filas\n",
    "print(\"Comparing aisles\")\n",
    "print(\"Data is consistent\" if compare_data(\"aisles\", \"aisle_id\", 10, 134, mysqlcnx, mysqlcursor, snowflakecnx, snowflakecursor)\n",
    "      else \"Data is inconsistent\")\n",
    "print()\n",
    "# Tabla departments, 21 filas\n",
    "print(\"Comparing departments\")\n",
    "print(\"Data is consistent\" if compare_data(\"departments\", \"department_id\", 10, 21, mysqlcnx, mysqlcursor, snowflakecnx, snowflakecursor)\n",
    "      else \"Data is inconsistent\")\n",
    "print()\n",
    "# Tabla products, 49694 filas\n",
    "print(\"Comparing products\")\n",
    "print(\"Data is consistent\" if compare_data(\"products\", \"product_id\", 10, 49694, mysqlcnx, mysqlcursor, snowflakecnx, snowflakecursor)\n",
    "      else \"Data is inconsistent\")\n",
    "print()\n",
    "# Tabla order_products, 4545007 filas\n",
    "print(\"Comparing order_products\")\n",
    "print(\"Data is consistent\" if compare_data(\"order_products\", \"order_id\", 10, 4545007, mysqlcnx, mysqlcursor, snowflakecnx, snowflakecursor)\n",
    "      else \"Data is inconsistent\")\n",
    "print()\n",
    "# Tabla instacart_orders, 478967 filas\n",
    "print(\"Comparing instacart_orders\")\n",
    "print(\"Data is consistent\" if compare_data(\"instacart_orders\", \"order_id\", 10, 478967, mysqlcnx, mysqlcursor, snowflakecnx, snowflakecursor)\n",
    "      else \"Data is inconsistent\")\n"
   ]
  }
 ],
 "metadata": {
  "kernelspec": {
   "display_name": "Python 3",
   "language": "python",
   "name": "python3"
  },
  "language_info": {
   "codemirror_mode": {
    "name": "ipython",
    "version": 3
   },
   "file_extension": ".py",
   "mimetype": "text/x-python",
   "name": "python",
   "nbconvert_exporter": "python",
   "pygments_lexer": "ipython3",
   "version": "3.11.8"
  }
 },
 "nbformat": 4,
 "nbformat_minor": 2
}
