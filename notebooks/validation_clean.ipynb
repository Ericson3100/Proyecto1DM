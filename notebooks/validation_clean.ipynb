{
 "cells": [
  {
   "cell_type": "markdown",
   "metadata": {},
   "source": [
    "Notebook para poder validar la transferencia correcta de la data comparando valores aleatorios de la data en RAW DE SNOWFLAKE y CLEAN DE SNOWFLAKE.\n",
    "Se compara la tabla de products, instacart_orders y order_products. Solo se verifican los ids debido a la modelación y transformaciones de RAW a CLEAN."
   ]
  },
  {
   "cell_type": "code",
   "execution_count": 10,
   "metadata": {},
   "outputs": [],
   "source": [
    "import random   \n",
    "import snowflake.connector\n",
    "from os import getenv\n"
   ]
  },
  {
   "cell_type": "code",
   "execution_count": 11,
   "metadata": {},
   "outputs": [],
   "source": [
    "def compare_data(table_name, id_column_name, no_comparisons, rango,snowflakecursor, snowflakecursor2, comparator,table_name2):\n",
    "    ids=[]\n",
    "    for _ in range(no_comparisons):\n",
    "        id = random.randint(1, rango)\n",
    "        ids.append(id)\n",
    "    for id in ids:\n",
    "        snowflakecursor.execute(\"SELECT %s FROM %s WHERE %s = %%s\" % (comparator, table_name, id_column_name), (id,))\n",
    "        snowresult = snowflakecursor.fetchall()\n",
    "        snowflakecursor2.execute(\"SELECT %s FROM %s WHERE %s = %%s\" % (comparator, table_name2, id_column_name), (id,))\n",
    "        snowresult2 = snowflakecursor2.fetchall()\n",
    "        if snowresult != snowresult2:\n",
    "            print(\"Data mismatch for id \"+str(id))\n",
    "            print(\"RAW: \"+str(snowresult))\n",
    "            print(\"CLEAN: \"+str(snowresult2))\n",
    "            return False\n",
    "    return True\n",
    "        \n",
    "    "
   ]
  },
  {
   "cell_type": "code",
   "execution_count": 12,
   "metadata": {},
   "outputs": [],
   "source": [
    "config_snowflake_1 = {\n",
    "    'user': getenv('SNOW_USER'),\n",
    "    'password': getenv('SNOW_PASSWORD'),\n",
    "    'account': getenv('SNOW_ACCOUNT'),\n",
    "    'schema': 'RAW',\n",
    "    'database': 'INSTACART_DB',}\n",
    "config_snowflake_2 = {\n",
    "    'user': getenv('SNOW_USER'),\n",
    "    'password': getenv('SNOW_PASSWORD'),\n",
    "    'account': getenv('SNOW_ACCOUNT'),\n",
    "    'schema': 'CLEAN',\n",
    "    'database': 'INSTACART_DB',}\n",
    "\n",
    "snowflakecnx = snowflake.connector.connect(**config_snowflake_1)\n",
    "snowflakecursor = snowflakecnx.cursor()\n",
    "snowflakecnx2 = snowflake.connector.connect(**config_snowflake_2)\n",
    "snowflakecursor2 = snowflakecnx2.cursor()\n",
    "    "
   ]
  },
  {
   "cell_type": "code",
   "execution_count": 13,
   "metadata": {},
   "outputs": [
    {
     "name": "stdout",
     "output_type": "stream",
     "text": [
      "(1, 'Chocolate Sandwich Cookies', 61, 19)\n",
      "(2, 'All-Seasons Salt', 104, 13)\n",
      "(3, 'Robust Golden Unsweetened Oolong Tea', 94, 7)\n",
      "(4, 'Smart Ones Classic Favorites Mini Rigatoni With Vodka Cream Sauce', 38, 1)\n",
      "(5, 'Green Chile Anytime Sauce', 5, 13)\n",
      "(6, 'Dry Nose Oil', 11, 11)\n",
      "(7, 'Pure Coconut Water With Orange', 98, 7)\n",
      "(8, \"Cut Russet Potatoes Steam N' Mash\", 116, 1)\n",
      "(9, 'Light Strawberry Blueberry Yogurt', 120, 16)\n",
      "(10, 'Sparkling Orange Juice & Prickly Pear Beverage', 115, 7)\n",
      "(11, 'Peach Mango Juice', 31, 7)\n",
      "(12, 'Chocolate Fudge Layer Cake', 119, 1)\n",
      "(13, 'Saline Nasal Mist', 11, 11)\n",
      "(14, 'Fresh Scent Dishwasher Cleaner', 74, 17)\n",
      "(15, 'Overnight Diapers Size 6', 56, 18)\n",
      "(16, 'Mint Chocolate Flavored Syrup', 103, 19)\n",
      "(17, 'Rendered Duck Fat', 35, 12)\n",
      "(18, 'Pizza for One Suprema  Frozen Pizza', 79, 1)\n",
      "(19, 'Gluten Free Quinoa Three Cheese & Mushroom Blend', 63, 9)\n",
      "(20, 'Pomegranate Cranberry & Aloe Vera Enrich Drink', 98, 7)\n"
     ]
    }
   ],
   "source": [
    "#Consultar tabla products en Snowflake para validar la conexión\n",
    "snowflakecursor.execute(\"SELECT * FROM products LIMIT 20\")\n",
    "for x in snowflakecursor:\n",
    "    print(x)"
   ]
  },
  {
   "cell_type": "code",
   "execution_count": 14,
   "metadata": {},
   "outputs": [
    {
     "name": "stdout",
     "output_type": "stream",
     "text": [
      "(1, 'Chocolate Sandwich Cookies', 'cookies cakes', 'snacks')\n",
      "(2, 'All-Seasons Salt', 'spices seasonings', 'pantry')\n",
      "(3, 'Robust Golden Unsweetened Oolong Tea', 'tea', 'beverages')\n",
      "(4, 'Smart Ones Classic Favorites Mini Rigatoni With Vodka Cream Sauce', 'frozen meals', 'frozen')\n",
      "(5, 'Green Chile Anytime Sauce', 'marinades meat preparation', 'pantry')\n",
      "(6, 'Dry Nose Oil', 'cold flu allergy', 'personal care')\n",
      "(7, 'Pure Coconut Water With Orange', 'juice nectars', 'beverages')\n",
      "(8, \"Cut Russet Potatoes Steam N' Mash\", 'frozen produce', 'frozen')\n",
      "(9, 'Light Strawberry Blueberry Yogurt', 'yogurt', 'dairy eggs')\n",
      "(10, 'Sparkling Orange Juice & Prickly Pear Beverage', 'water seltzer sparkling water', 'beverages')\n",
      "(11, 'Peach Mango Juice', 'refrigerated', 'beverages')\n",
      "(12, 'Chocolate Fudge Layer Cake', 'frozen dessert', 'frozen')\n",
      "(13, 'Saline Nasal Mist', 'cold flu allergy', 'personal care')\n",
      "(14, 'Fresh Scent Dishwasher Cleaner', 'dish detergents', 'household')\n",
      "(15, 'Overnight Diapers Size 6', 'diapers wipes', 'babies')\n",
      "(16, 'Mint Chocolate Flavored Syrup', 'ice cream toppings', 'snacks')\n",
      "(17, 'Rendered Duck Fat', 'poultry counter', 'meat seafood')\n",
      "(18, 'Pizza for One Suprema  Frozen Pizza', 'frozen pizza', 'frozen')\n",
      "(19, 'Gluten Free Quinoa Three Cheese & Mushroom Blend', 'grains rice dried goods', 'dry goods pasta')\n",
      "(20, 'Pomegranate Cranberry & Aloe Vera Enrich Drink', 'juice nectars', 'beverages')\n"
     ]
    }
   ],
   "source": [
    "#Consultar tabla dim_products en Snowflake para validar la conexión\n",
    "snowflakecursor2.execute(\"SELECT * FROM dim_producto LIMIT 20\")\n",
    "for x in snowflakecursor2:\n",
    "    print(x)"
   ]
  },
  {
   "cell_type": "code",
   "execution_count": 15,
   "metadata": {},
   "outputs": [
    {
     "name": "stdout",
     "output_type": "stream",
     "text": [
      "Cantidad de registros en tabla products en RAW: 49694\n",
      "Cantidad de registros en tabla dim_producto en CLEAN: 49694\n"
     ]
    }
   ],
   "source": [
    "#Ver la cantidad de registros de cada tabla y comparar con su modelo en RAW\n",
    "#tabla dim_products en CLEAN con tabla products en RAW\n",
    "snowflakecursor.execute(\"SELECT COUNT(*) FROM products\")\n",
    "for x in snowflakecursor:\n",
    "    no_rows = x[0]\n",
    "    print(\"Cantidad de registros en tabla products en RAW: \"+str(no_rows))\n",
    "snowflakecursor2.execute(\"SELECT COUNT(*) FROM dim_producto\")\n",
    "for x in snowflakecursor2:\n",
    "    no_rows = x[0]\n",
    "    print(\"Cantidad de registros en tabla dim_producto en CLEAN: \"+str(no_rows))"
   ]
  },
  {
   "cell_type": "code",
   "execution_count": 16,
   "metadata": {},
   "outputs": [
    {
     "name": "stdout",
     "output_type": "stream",
     "text": [
      "Cantidad de registros en tabla instacart_orders en RAW: 478967\n",
      "Cantidad de registros en tabla fct_orders en CLEAN: 478952\n"
     ]
    }
   ],
   "source": [
    "#tabla fct_orders en CLEAN con tabla instacart_orders en RAW\n",
    "snowflakecursor.execute(\"SELECT COUNT(*) FROM instacart_orders\")\n",
    "for x in snowflakecursor:\n",
    "    no_rows = x[0]\n",
    "    print(\"Cantidad de registros en tabla instacart_orders en RAW: \"+str(no_rows))\n",
    "snowflakecursor2.execute(\"SELECT COUNT(*) FROM fct_orders\")\n",
    "for x in snowflakecursor2:\n",
    "    no_rows = x[0]\n",
    "    print(\"Cantidad de registros en tabla fct_orders en CLEAN: \"+str(no_rows))"
   ]
  },
  {
   "cell_type": "code",
   "execution_count": 17,
   "metadata": {},
   "outputs": [
    {
     "name": "stdout",
     "output_type": "stream",
     "text": [
      "Cantidad de registros en tabla order_products en RAW: 4545007\n",
      "Cantidad de registros en tabla fct_orders_producto en CLEAN: 4545007\n"
     ]
    }
   ],
   "source": [
    "#tabla fct_orders_producto en CLEAN con tabla order_products en RAW\n",
    "snowflakecursor.execute(\"SELECT COUNT(*) FROM order_products\")\n",
    "for x in snowflakecursor:\n",
    "    no_rows = x[0]\n",
    "    print(\"Cantidad de registros en tabla order_products en RAW: \"+str(no_rows))\n",
    "snowflakecursor2.execute(\"SELECT COUNT(*) FROM fct_orders_producto\")\n",
    "for x in snowflakecursor2:\n",
    "    no_rows = x[0]\n",
    "    print(\"Cantidad de registros en tabla fct_orders_producto en CLEAN: \"+str(no_rows))"
   ]
  },
  {
   "cell_type": "code",
   "execution_count": 18,
   "metadata": {},
   "outputs": [
    {
     "name": "stdout",
     "output_type": "stream",
     "text": [
      "Comparing id_product: products vs dim_producto\n",
      "Data is consistent\n",
      "\n",
      "Comparing id_order: instacart_orders vs fct_orders\n",
      "Data is consistent\n",
      "\n",
      "Comparing id_order: order_products vs fct_orders_products\n",
      "Data is consistent\n"
     ]
    }
   ],
   "source": [
    "# Tabla products con tabla dim_products, 49694 filas\n",
    "print(\"Comparing id_product: products vs dim_producto\")\n",
    "print(\"Data is consistent\" if compare_data(\"products\", \"product_id\", 100, 49694, snowflakecursor, snowflakecursor2, \"product_name\", \"dim_producto\")\n",
    "      else \"Data is inconsistent\")\n",
    "print()\n",
    "# Tabla instacart_orders con tabla fct_orders, 478952 filas de order_id unico\n",
    "print(\"Comparing id_order: instacart_orders vs fct_orders\")\n",
    "print(\"Data is consistent\" if compare_data(\"instacart_orders\", \"order_id\", 100, 478967, snowflakecursor, snowflakecursor2, \"order_number\", \"fct_orders\")\n",
    "      else \"Data is inconsistent\")\n",
    "print()\n",
    "# Tabla order_products con tabla fct_orders_producto, 4545007 filas\n",
    "print(\"Comparing id_order: order_products vs fct_orders_products\")\n",
    "print(\"Data is consistent\" if compare_data(\"order_products\", \"order_id\", 100, 4545007, snowflakecursor, snowflakecursor2, \"product_id\", \"fct_orders_producto\")\n",
    "      else \"Data is inconsistent\")"
   ]
  },
  {
   "cell_type": "code",
   "execution_count": null,
   "metadata": {},
   "outputs": [],
   "source": []
  }
 ],
 "metadata": {
  "kernelspec": {
   "display_name": "Python 3",
   "language": "python",
   "name": "python3"
  },
  "language_info": {
   "codemirror_mode": {
    "name": "ipython",
    "version": 3
   },
   "file_extension": ".py",
   "mimetype": "text/x-python",
   "name": "python",
   "nbconvert_exporter": "python",
   "pygments_lexer": "ipython3",
   "version": "3.11.8"
  }
 },
 "nbformat": 4,
 "nbformat_minor": 2
}
